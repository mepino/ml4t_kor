{
 "cells": [
  {
   "cell_type": "markdown",
   "metadata": {},
   "source": [
    "# Working with Order Book Data: NASDAQ ITCH"
   ]
  },
  {
   "cell_type": "markdown",
   "metadata": {},
   "source": [
    "The primary source of market data is the order book, which is continuously updated in real-time throughout the day to reflect all trading activity. Exchanges typically offer this data as a real-time service and may provide some historical data for free.\n",
    "\n",
    "The trading activity is reflected in numerous messages about trade orders sent by market participants. These messages typically conform to the electronic Financial Information eXchange (FIX) communications protocol for real-time exchange of securities transactions and market data or a native exchange protocol. "
   ]
  },
  {
   "cell_type": "markdown",
   "metadata": {},
   "source": [
    "## Imports"
   ]
  },
  {
   "cell_type": "code",
   "execution_count": 1,
   "metadata": {
    "ExecuteTime": {
     "end_time": "2021-02-23T04:35:31.453166Z",
     "start_time": "2021-02-23T04:35:30.946085Z"
    }
   },
   "outputs": [],
   "source": [
    "from pathlib import Path\n",
    "from collections import Counter\n",
    "from datetime import timedelta\n",
    "from datetime import datetime\n",
    "from time import time\n",
    "\n",
    "import pandas as pd\n",
    "import numpy as np\n",
    "\n",
    "import matplotlib.pyplot as plt\n",
    "import matplotlib.patches as mpatches\n",
    "import seaborn as sns"
   ]
  },
  {
   "cell_type": "code",
   "execution_count": 2,
   "metadata": {
    "ExecuteTime": {
     "end_time": "2021-02-23T04:35:31.456596Z",
     "start_time": "2021-02-23T04:35:31.454220Z"
    }
   },
   "outputs": [],
   "source": [
    "sns.set_style('whitegrid')"
   ]
  },
  {
   "cell_type": "code",
   "execution_count": 3,
   "metadata": {
    "ExecuteTime": {
     "end_time": "2021-02-23T04:35:31.881674Z",
     "start_time": "2021-02-23T04:35:31.879435Z"
    }
   },
   "outputs": [],
   "source": [
    "def format_time(t):\n",
    "    \"\"\"Return a formatted time string 'HH:MM:SS\n",
    "    based on a numeric time() value\"\"\"\n",
    "    m, s = divmod(t, 60)\n",
    "    h, m = divmod(m, 60)\n",
    "    return f'{h:0>2.0f}:{m:0>2.0f}:{s:0>2.0f}'"
   ]
  },
  {
   "cell_type": "markdown",
   "metadata": {},
   "source": [
    "### Set Data paths"
   ]
  },
  {
   "cell_type": "markdown",
   "metadata": {},
   "source": [
    "We will store the download in a `data` subdirectory and convert the result to `hdf` format (discussed in the last section of chapter 2)."
   ]
  },
  {
   "cell_type": "code",
   "execution_count": 4,
   "metadata": {
    "ExecuteTime": {
     "end_time": "2020-06-13T21:07:45.351588Z",
     "start_time": "2020-06-13T21:07:45.344392Z"
    }
   },
   "outputs": [],
   "source": [
    "data_path = Path('data') # set to e.g. external harddrive\n",
    "itch_store = str(data_path / 'itch.h5')\n",
    "order_book_store = data_path / 'order_book.h5'\n",
    "date = '10302019'"
   ]
  },
  {
   "cell_type": "markdown",
   "metadata": {},
   "source": [
    "## Build Order Book"
   ]
  },
  {
   "cell_type": "code",
   "execution_count": 5,
   "metadata": {
    "ExecuteTime": {
     "end_time": "2020-06-13T21:07:45.359537Z",
     "start_time": "2020-06-13T21:07:45.352366Z"
    }
   },
   "outputs": [],
   "source": [
    "stock = 'AAPL'\n",
    "order_dict = {-1: 'sell', 1: 'buy'}"
   ]
  },
  {
   "cell_type": "markdown",
   "metadata": {},
   "source": [
    "The parsed messages allow us to rebuild the order flow for the given day. The 'R' message type contains a listing of all stocks traded during a given day, including information about initial public offerings (IPOs) and trading restrictions."
   ]
  },
  {
   "cell_type": "markdown",
   "metadata": {},
   "source": [
    "Throughout the day, new orders are added, and orders that are executed and canceled are removed from the order book. The proper accounting for messages that reference orders placed on a prior date would require tracking the order book over multiple days, but we are ignoring this aspect here."
   ]
  },
  {
   "cell_type": "markdown",
   "metadata": {},
   "source": [
    "### Get all messages for given stock"
   ]
  },
  {
   "cell_type": "markdown",
   "metadata": {},
   "source": [
    "The `get_messages()` function illustrates how to collect the orders for a single stock that affects trading (refer to the ITCH specification for details about each message):"
   ]
  },
  {
   "cell_type": "code",
   "execution_count": 6,
   "metadata": {
    "ExecuteTime": {
     "end_time": "2020-06-13T21:07:45.368319Z",
     "start_time": "2020-06-13T21:07:45.360585Z"
    }
   },
   "outputs": [],
   "source": [
    "def get_messages(date, stock=stock):\n",
    "    \"\"\"Collect trading messages for given stock\"\"\"\n",
    "    with pd.HDFStore(itch_store) as store:\n",
    "        stock_locate = store.select('R', where='stock = stock').stock_locate.iloc[0]\n",
    "        target = 'stock_locate = stock_locate'\n",
    "\n",
    "        data = {}\n",
    "        # trading message types\n",
    "        messages = ['A', 'F', 'E', 'C', 'X', 'D', 'U', 'P', 'Q']\n",
    "        for m in messages:\n",
    "            data[m] = store.select(m, where=target).drop('stock_locate', axis=1).assign(type=m)\n",
    "\n",
    "    order_cols = ['order_reference_number', 'buy_sell_indicator', 'shares', 'price']\n",
    "    orders = pd.concat([data['A'], data['F']], sort=False, ignore_index=True).loc[:, order_cols]\n",
    "\n",
    "    for m in messages[2: -3]:\n",
    "        data[m] = data[m].merge(orders, how='left')\n",
    "\n",
    "    data['U'] = data['U'].merge(orders, how='left',\n",
    "                                right_on='order_reference_number',\n",
    "                                left_on='original_order_reference_number',\n",
    "                                suffixes=['', '_replaced'])\n",
    "\n",
    "    data['Q'].rename(columns={'cross_price': 'price'}, inplace=True)\n",
    "    data['X']['shares'] = data['X']['cancelled_shares']\n",
    "    data['X'] = data['X'].dropna(subset=['price'])\n",
    "\n",
    "    data = pd.concat([data[m] for m in messages], ignore_index=True, sort=False)\n",
    "    data['date'] = pd.to_datetime(date, format='%m%d%Y')\n",
    "    data.timestamp = data['date'].add(data.timestamp)\n",
    "    data = data[data.printable != 0]\n",
    "\n",
    "    drop_cols = ['tracking_number', 'order_reference_number', 'original_order_reference_number',\n",
    "                 'cross_type', 'new_order_reference_number', 'attribution', 'match_number',\n",
    "                 'printable', 'date', 'cancelled_shares']\n",
    "    return data.drop(drop_cols, axis=1).sort_values('timestamp').reset_index(drop=True)\n"
   ]
  },
  {
   "cell_type": "code",
   "execution_count": 7,
   "metadata": {
    "ExecuteTime": {
     "end_time": "2020-06-13T21:07:52.850622Z",
     "start_time": "2020-06-13T21:07:45.369617Z"
    }
   },
   "outputs": [
    {
     "name": "stdout",
     "output_type": "stream",
     "text": [
      "<class 'pandas.core.frame.DataFrame'>\n",
      "RangeIndex: 1043887 entries, 0 to 1043886\n",
      "Data columns (total 9 columns):\n",
      " #   Column              Non-Null Count    Dtype         \n",
      "---  ------              --------------    -----         \n",
      " 0   timestamp           1043887 non-null  datetime64[ns]\n",
      " 1   buy_sell_indicator  975519 non-null   float64       \n",
      " 2   shares              1040307 non-null  float64       \n",
      " 3   price               1040307 non-null  float64       \n",
      " 4   type                1043887 non-null  object        \n",
      " 5   executed_shares     39605 non-null    float64       \n",
      " 6   execution_price     184 non-null      float64       \n",
      " 7   shares_replaced     3379 non-null     float64       \n",
      " 8   price_replaced      3379 non-null     float64       \n",
      "dtypes: datetime64[ns](1), float64(7), object(1)\n",
      "memory usage: 71.7+ MB\n"
     ]
    },
    {
     "name": "stderr",
     "output_type": "stream",
     "text": [
      "<ipython-input-7-0239a52c211b>:2: FutureWarning: null_counts is deprecated. Use show_counts instead\n",
      "  messages.info(null_counts=True)\n"
     ]
    }
   ],
   "source": [
    "messages = get_messages(date=date)\n",
    "messages.info(null_counts=True)"
   ]
  },
  {
   "cell_type": "code",
   "execution_count": 8,
   "metadata": {
    "ExecuteTime": {
     "end_time": "2020-06-13T21:07:52.938322Z",
     "start_time": "2020-06-13T21:07:52.851768Z"
    }
   },
   "outputs": [
    {
     "name": "stdout",
     "output_type": "stream",
     "text": [
      "<class 'pandas.io.pytables.HDFStore'>\n",
      "File path: data\\order_book.h5\n",
      "/AAPL/messages            frame        (shape->[1043887,9])\n"
     ]
    }
   ],
   "source": [
    "with pd.HDFStore(order_book_store) as store:\n",
    "    key = f'{stock}/messages'\n",
    "    store.put(key, messages)\n",
    "    print(store.info())"
   ]
  },
  {
   "cell_type": "markdown",
   "metadata": {},
   "source": [
    "### Combine Trading Records"
   ]
  },
  {
   "cell_type": "markdown",
   "metadata": {},
   "source": [
    "Reconstructing successful trades, that is, orders that are executed as opposed to those that were canceled from trade-related message types, C, E, P, and Q, is relatively straightforward:"
   ]
  },
  {
   "cell_type": "code",
   "execution_count": 9,
   "metadata": {
    "ExecuteTime": {
     "end_time": "2020-06-13T21:07:52.942982Z",
     "start_time": "2020-06-13T21:07:52.939226Z"
    }
   },
   "outputs": [],
   "source": [
    "def get_trades(m):\n",
    "    \"\"\"Combine C, E, P and Q messages into trading records\"\"\"\n",
    "    trade_dict = {'executed_shares': 'shares', 'execution_price': 'price'}\n",
    "    cols = ['timestamp', 'executed_shares']\n",
    "    trades = pd.concat([m.loc[m.type == 'E', cols + ['price']].rename(columns=trade_dict),\n",
    "                        m.loc[m.type == 'C', cols + ['execution_price']].rename(columns=trade_dict),\n",
    "                        m.loc[m.type == 'P', ['timestamp', 'price', 'shares']],\n",
    "                        m.loc[m.type == 'Q', ['timestamp', 'price', 'shares']].assign(cross=1),\n",
    "                        ], sort=False).dropna(subset=['price']).fillna(0)\n",
    "    return trades.set_index('timestamp').sort_index().astype(int)"
   ]
  },
  {
   "cell_type": "code",
   "execution_count": 10,
   "metadata": {
    "ExecuteTime": {
     "end_time": "2020-06-13T21:07:53.089116Z",
     "start_time": "2020-06-13T21:07:52.944447Z"
    }
   },
   "outputs": [
    {
     "name": "stdout",
     "output_type": "stream",
     "text": [
      "<class 'pandas.core.frame.DataFrame'>\n",
      "DatetimeIndex: 43788 entries, 2019-10-30 04:06:28.203892840 to 2019-10-30 13:22:27.982107060\n",
      "Data columns (total 3 columns):\n",
      " #   Column  Non-Null Count  Dtype\n",
      "---  ------  --------------  -----\n",
      " 0   shares  43788 non-null  int32\n",
      " 1   price   43788 non-null  int32\n",
      " 2   cross   43788 non-null  int32\n",
      "dtypes: int32(3)\n",
      "memory usage: 855.2 KB\n",
      "None\n"
     ]
    }
   ],
   "source": [
    "trades = get_trades(messages)\n",
    "print(trades.info())"
   ]
  },
  {
   "cell_type": "code",
   "execution_count": 11,
   "metadata": {
    "ExecuteTime": {
     "end_time": "2020-06-13T21:07:53.099575Z",
     "start_time": "2020-06-13T21:07:53.090217Z"
    }
   },
   "outputs": [],
   "source": [
    "with pd.HDFStore(order_book_store) as store:\n",
    "    store.put(f'{stock}/trades', trades)"
   ]
  },
  {
   "cell_type": "markdown",
   "metadata": {},
   "source": [
    "### Create Orders"
   ]
  },
  {
   "cell_type": "markdown",
   "metadata": {},
   "source": [
    "The order book keeps track of limit orders, and the various price levels for buy and sell orders constitute the depth of the order book. To reconstruct the order book for a given level of depth requires the following steps:\n"
   ]
  },
  {
   "cell_type": "markdown",
   "metadata": {},
   "source": [
    "The `add_orders()` function accumulates sell orders in ascending, and buy orders in descending order for a given timestamp up to the desired level of depth:"
   ]
  },
  {
   "cell_type": "code",
   "execution_count": 12,
   "metadata": {
    "ExecuteTime": {
     "end_time": "2020-06-13T21:07:53.114484Z",
     "start_time": "2020-06-13T21:07:53.101193Z"
    }
   },
   "outputs": [],
   "source": [
    "def add_orders(orders, buysell, nlevels):\n",
    "    \"\"\"Add orders up to desired depth given by nlevels;\n",
    "        sell in ascending, buy in descending order\n",
    "    \"\"\"\n",
    "    new_order = []\n",
    "    items = sorted(orders.copy().items())\n",
    "    if buysell == 1:\n",
    "        items = reversed(items)  \n",
    "    for i, (p, s) in enumerate(items, 1):\n",
    "        new_order.append((p, s))\n",
    "        if i == nlevels:\n",
    "            break\n",
    "    return orders, new_order"
   ]
  },
  {
   "cell_type": "code",
   "execution_count": 13,
   "metadata": {
    "ExecuteTime": {
     "end_time": "2020-06-13T21:07:53.144011Z",
     "start_time": "2020-06-13T21:07:53.119535Z"
    }
   },
   "outputs": [],
   "source": [
    "def save_orders(orders, append=False):\n",
    "    cols = ['price', 'shares']\n",
    "    for buysell, book in orders.items():\n",
    "        df = (pd.concat([pd.DataFrame(data=data,\n",
    "                                     columns=cols)\n",
    "                         .assign(timestamp=t) \n",
    "                         for t, data in book.items()]))\n",
    "        key = f'{stock}/{order_dict[buysell]}'\n",
    "        df.loc[:, ['price', 'shares']] = df.loc[:, ['price', 'shares']].astype(int)\n",
    "        with pd.HDFStore(order_book_store) as store:\n",
    "            if append:\n",
    "                store.append(key, df.set_index('timestamp'), format='t')\n",
    "            else:\n",
    "                store.put(key, df.set_index('timestamp'))"
   ]
  },
  {
   "cell_type": "markdown",
   "metadata": {},
   "source": [
    "We iterate over all ITCH messages and process orders and their replacements as required by the specification (this can take a while):"
   ]
  },
  {
   "cell_type": "code",
   "execution_count": null,
   "metadata": {
    "ExecuteTime": {
     "end_time": "2020-06-13T21:30:07.890442Z",
     "start_time": "2020-06-13T21:07:53.146684Z"
    }
   },
   "outputs": [
    {
     "name": "stdout",
     "output_type": "stream",
     "text": [
      "100,000\t\t00:01:03\n"
     ]
    }
   ],
   "source": [
    "order_book = {-1: {}, 1: {}}\n",
    "current_orders = {-1: Counter(), 1: Counter()}\n",
    "message_counter = Counter()\n",
    "nlevels = 100\n",
    "\n",
    "start = time()\n",
    "for message in messages.itertuples():\n",
    "    i = message[0]\n",
    "    if i % 1e5 == 0 and i > 0:\n",
    "        print(f'{i:,.0f}\\t\\t{format_time(time() - start)}')\n",
    "        save_orders(order_book, append=True)\n",
    "        order_book = {-1: {}, 1: {}}\n",
    "        start = time()\n",
    "    if np.isnan(message.buy_sell_indicator):\n",
    "        continue\n",
    "    message_counter.update(message.type)\n",
    "\n",
    "    buysell = message.buy_sell_indicator\n",
    "    price, shares = None, None\n",
    "\n",
    "    if message.type in ['A', 'F', 'U']:\n",
    "        price = int(message.price)\n",
    "        shares = int(message.shares)\n",
    "\n",
    "        current_orders[buysell].update({price: shares})\n",
    "        current_orders[buysell], new_order = add_orders(current_orders[buysell], buysell, nlevels)\n",
    "        order_book[buysell][message.timestamp] = new_order\n",
    "\n",
    "    if message.type in ['E', 'C', 'X', 'D', 'U']:\n",
    "        if message.type == 'U':\n",
    "            if not np.isnan(message.shares_replaced):\n",
    "                price = int(message.price_replaced)\n",
    "                shares = -int(message.shares_replaced)\n",
    "        else:\n",
    "            if not np.isnan(message.price):\n",
    "                price = int(message.price)\n",
    "                shares = -int(message.shares)\n",
    "\n",
    "        if price is not None:\n",
    "            current_orders[buysell].update({price: shares})\n",
    "            if current_orders[buysell][price] <= 0:\n",
    "                current_orders[buysell].pop(price)\n",
    "            current_orders[buysell], new_order = add_orders(current_orders[buysell], buysell, nlevels)\n",
    "            order_book[buysell][message.timestamp] = new_order"
   ]
  },
  {
   "cell_type": "code",
   "execution_count": null,
   "metadata": {
    "ExecuteTime": {
     "end_time": "2020-06-13T21:30:07.893896Z",
     "start_time": "2020-06-13T21:30:07.891323Z"
    }
   },
   "outputs": [],
   "source": [
    "message_counter = pd.Series(message_counter)\n",
    "print(message_counter)"
   ]
  },
  {
   "cell_type": "code",
   "execution_count": null,
   "metadata": {
    "ExecuteTime": {
     "end_time": "2020-06-13T21:30:07.924423Z",
     "start_time": "2020-06-13T21:30:07.894865Z"
    }
   },
   "outputs": [],
   "source": [
    "with pd.HDFStore(order_book_store) as store:\n",
    "    print(store.info())"
   ]
  },
  {
   "cell_type": "markdown",
   "metadata": {},
   "source": [
    "## Order Book Depth"
   ]
  },
  {
   "cell_type": "code",
   "execution_count": null,
   "metadata": {
    "ExecuteTime": {
     "end_time": "2020-06-13T21:30:42.967953Z",
     "start_time": "2020-06-13T21:30:07.925375Z"
    }
   },
   "outputs": [],
   "source": [
    "with pd.HDFStore(order_book_store) as store:\n",
    "    buy = store[f'{stock}/buy'].reset_index().drop_duplicates()\n",
    "    sell = store[f'{stock}/sell'].reset_index().drop_duplicates()"
   ]
  },
  {
   "cell_type": "markdown",
   "metadata": {},
   "source": [
    "### Price to Decimals"
   ]
  },
  {
   "cell_type": "code",
   "execution_count": null,
   "metadata": {
    "ExecuteTime": {
     "end_time": "2020-06-13T21:30:43.463675Z",
     "start_time": "2020-06-13T21:30:42.968888Z"
    }
   },
   "outputs": [],
   "source": [
    "buy.price = buy.price.mul(1e-4)\n",
    "sell.price = sell.price.mul(1e-4)"
   ]
  },
  {
   "cell_type": "markdown",
   "metadata": {},
   "source": [
    "### Remove outliers"
   ]
  },
  {
   "cell_type": "code",
   "execution_count": null,
   "metadata": {
    "ExecuteTime": {
     "end_time": "2020-06-13T21:30:47.363925Z",
     "start_time": "2020-06-13T21:30:43.464537Z"
    }
   },
   "outputs": [],
   "source": [
    "percentiles = [.01, .02, .1, .25, .75, .9, .98, .99]\n",
    "pd.concat([buy.price.describe(percentiles=percentiles).to_frame('buy'),\n",
    "           sell.price.describe(percentiles=percentiles).to_frame('sell')], axis=1)"
   ]
  },
  {
   "cell_type": "code",
   "execution_count": null,
   "metadata": {
    "ExecuteTime": {
     "end_time": "2020-06-13T21:30:50.070127Z",
     "start_time": "2020-06-13T21:30:47.364915Z"
    }
   },
   "outputs": [],
   "source": [
    "buy = buy[buy.price > buy.price.quantile(.01)]\n",
    "sell = sell[sell.price < sell.price.quantile(.99)]"
   ]
  },
  {
   "cell_type": "markdown",
   "metadata": {},
   "source": [
    "### Buy-Sell Order Distribution"
   ]
  },
  {
   "cell_type": "markdown",
   "metadata": {},
   "source": [
    "The number of orders at different price levels, highlighted in the following screenshot using different intensities for buy and sell orders, visualizes the depth of liquidity at any given point in time."
   ]
  },
  {
   "cell_type": "markdown",
   "metadata": {},
   "source": [
    "The distribution of limit order prices was weighted toward buy orders at higher prices."
   ]
  },
  {
   "cell_type": "code",
   "execution_count": null,
   "metadata": {
    "ExecuteTime": {
     "end_time": "2020-06-13T21:30:50.072644Z",
     "start_time": "2020-06-13T21:30:50.071052Z"
    }
   },
   "outputs": [],
   "source": [
    "market_open='0930'\n",
    "market_close = '1600'"
   ]
  },
  {
   "cell_type": "code",
   "execution_count": null,
   "metadata": {
    "ExecuteTime": {
     "end_time": "2020-06-13T22:52:32.274037Z",
     "start_time": "2020-06-13T22:52:24.614895Z"
    }
   },
   "outputs": [],
   "source": [
    "fig, ax = plt.subplots(figsize=(7,5))\n",
    "hist_kws = {'linewidth': 1, 'alpha': .5}\n",
    "sns.distplot(buy[buy.price.between(240, 250)].set_index('timestamp').between_time(market_open, market_close).price, \n",
    "             ax=ax, label='Buy', kde=False, hist_kws=hist_kws)\n",
    "sns.distplot(sell[sell.price.between(240, 250)].set_index('timestamp').between_time(market_open, market_close).price, \n",
    "             ax=ax, label='Sell', kde=False, hist_kws=hist_kws)\n",
    "\n",
    "ax.legend(fontsize=10)\n",
    "ax.set_title('Limit Order Price Distribution')\n",
    "ax.set_yticklabels([f'{int(y/1000):,}' for y in ax.get_yticks().tolist()])\n",
    "ax.set_xticklabels([f'${int(x):,}' for x in ax.get_xticks().tolist()])\n",
    "ax.set_xlabel('Price')\n",
    "ax.set_ylabel('Shares (\\'000)')\n",
    "sns.despine()\n",
    "fig.tight_layout();"
   ]
  },
  {
   "cell_type": "markdown",
   "metadata": {},
   "source": [
    "### Order Book Depth"
   ]
  },
  {
   "cell_type": "code",
   "execution_count": null,
   "metadata": {
    "ExecuteTime": {
     "end_time": "2020-06-13T21:30:57.807208Z",
     "start_time": "2020-06-13T21:30:57.805558Z"
    }
   },
   "outputs": [],
   "source": [
    "utc_offset = timedelta(hours=4)\n",
    "depth = 100"
   ]
  },
  {
   "cell_type": "code",
   "execution_count": null,
   "metadata": {
    "ExecuteTime": {
     "end_time": "2020-06-13T21:31:04.841481Z",
     "start_time": "2020-06-13T21:30:57.808058Z"
    },
    "scrolled": true
   },
   "outputs": [],
   "source": [
    "buy_per_min = (buy\n",
    "               .groupby([pd.Grouper(key='timestamp', freq='Min'), 'price'])\n",
    "               .shares\n",
    "               .sum()\n",
    "               .apply(np.log)\n",
    "               .to_frame('shares')\n",
    "               .reset_index('price')\n",
    "               .between_time(market_open, market_close)\n",
    "               .groupby(level='timestamp', as_index=False, group_keys=False)\n",
    "               .apply(lambda x: x.nlargest(columns='price', n=depth))\n",
    "               .reset_index())\n",
    "buy_per_min.timestamp = buy_per_min.timestamp.add(utc_offset).astype(int)\n",
    "buy_per_min.info()"
   ]
  },
  {
   "cell_type": "code",
   "execution_count": null,
   "metadata": {
    "ExecuteTime": {
     "end_time": "2020-06-13T21:31:10.525474Z",
     "start_time": "2020-06-13T21:31:04.842356Z"
    }
   },
   "outputs": [],
   "source": [
    "sell_per_min = (sell\n",
    "                .groupby([pd.Grouper(key='timestamp', freq='Min'), 'price'])\n",
    "                .shares\n",
    "                .sum()\n",
    "                .apply(np.log)\n",
    "                .to_frame('shares')\n",
    "                .reset_index('price')\n",
    "                .between_time(market_open, market_close)\n",
    "                .groupby(level='timestamp', as_index=False, group_keys=False)\n",
    "                .apply(lambda x: x.nsmallest(columns='price', n=depth))\n",
    "                .reset_index())\n",
    "\n",
    "sell_per_min.timestamp = sell_per_min.timestamp.add(utc_offset).astype(int)\n",
    "sell_per_min.info()"
   ]
  },
  {
   "cell_type": "code",
   "execution_count": null,
   "metadata": {
    "ExecuteTime": {
     "end_time": "2020-06-13T21:31:10.546453Z",
     "start_time": "2020-06-13T21:31:10.526419Z"
    }
   },
   "outputs": [],
   "source": [
    "with pd.HDFStore(order_book_store) as store:\n",
    "    trades = store[f'{stock}/trades']\n",
    "trades.price = trades.price.mul(1e-4)\n",
    "trades = trades[trades.cross == 0].between_time(market_open, market_close)\n",
    "\n",
    "trades_per_min = (trades\n",
    "                  .resample('Min')\n",
    "                  .agg({'price': 'mean', 'shares': 'sum'}))\n",
    "trades_per_min.index = trades_per_min.index.to_series().add(utc_offset).astype(int)\n",
    "trades_per_min.info()"
   ]
  },
  {
   "cell_type": "markdown",
   "metadata": {},
   "source": [
    "The following plots the evolution of limit orders and prices throughout the trading day: the dark line tracks the prices for executed trades during market hours, whereas the red and blue dots indicate individual limit orders on a per-minute basis (see notebook for details)"
   ]
  },
  {
   "cell_type": "code",
   "execution_count": null,
   "metadata": {
    "ExecuteTime": {
     "end_time": "2020-06-13T21:31:15.471666Z",
     "start_time": "2020-06-13T21:31:10.547575Z"
    },
    "scrolled": false
   },
   "outputs": [],
   "source": [
    "sns.set_style('white')\n",
    "fig, ax = plt.subplots(figsize=(14, 6))\n",
    "\n",
    "buy_per_min.plot.scatter(x='timestamp',\n",
    "                         y='price', \n",
    "                         c='shares', \n",
    "                         ax=ax, \n",
    "                         colormap='Blues', \n",
    "                         colorbar=False, \n",
    "                         alpha=.25)\n",
    "\n",
    "sell_per_min.plot.scatter(x='timestamp',\n",
    "                          y='price', \n",
    "                          c='shares', \n",
    "                          ax=ax, \n",
    "                          colormap='Reds', \n",
    "                          colorbar=False, \n",
    "                          alpha=.25)\n",
    "\n",
    "title = f'AAPL | {date} | Buy & Sell Limit Order Book | Depth = {depth}'\n",
    "trades_per_min.price.plot(figsize=(14, 8), \n",
    "                          c='k', \n",
    "                          ax=ax, \n",
    "                          lw=2, \n",
    "                          title=title)\n",
    "\n",
    "xticks = [datetime.fromtimestamp(ts / 1e9).strftime('%H:%M') for ts in ax.get_xticks()]\n",
    "ax.set_xticklabels(xticks)\n",
    "\n",
    "ax.set_xlabel('')\n",
    "ax.set_ylabel('Price', fontsize=12)\n",
    "\n",
    "red_patch = mpatches.Patch(color='red', label='Sell')\n",
    "blue_patch = mpatches.Patch(color='royalblue', label='Buy')\n",
    "\n",
    "plt.legend(handles=[red_patch, blue_patch])\n",
    "sns.despine()\n",
    "fig.tight_layout()"
   ]
  }
 ],
 "metadata": {
  "kernelspec": {
   "display_name": "Python 3",
   "language": "python",
   "name": "python3"
  },
  "language_info": {
   "codemirror_mode": {
    "name": "ipython",
    "version": 3
   },
   "file_extension": ".py",
   "mimetype": "text/x-python",
   "name": "python",
   "nbconvert_exporter": "python",
   "pygments_lexer": "ipython3",
   "version": "3.8.8"
  },
  "toc": {
   "base_numbering": 1,
   "nav_menu": {},
   "number_sections": true,
   "sideBar": true,
   "skip_h1_title": true,
   "title_cell": "Table of Contents",
   "title_sidebar": "Contents",
   "toc_cell": false,
   "toc_position": {
    "height": "calc(100% - 180px)",
    "left": "10px",
    "top": "150px",
    "width": "295px"
   },
   "toc_section_display": true,
   "toc_window_display": true
  }
 },
 "nbformat": 4,
 "nbformat_minor": 2
}
